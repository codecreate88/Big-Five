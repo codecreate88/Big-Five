{
 "cells": [
  {
   "cell_type": "code",
   "execution_count": 10,
   "metadata": {},
   "outputs": [],
   "source": [
    "import pandas as pd\n",
    "import numpy as np\n",
    "from sklearn.cluster import KMeans\n",
    "from matplotlib import pyplot as plt"
   ]
  },
  {
   "cell_type": "code",
   "execution_count": 11,
   "metadata": {},
   "outputs": [],
   "source": [
    "df_raw = pd.read_csv(\"D:\\data-final-selected.csv\", sep = \"\\t\", quotechar=\" \").dropna()\n",
    "df_raw.rename(columns = {\"\\\"EXT1\" : \"EXT1\", \"long_appx_lots_of_err\\\"\" : \"long_appx_lots_of_err\"}, \\\n",
    "              inplace=True)\n",
    "df_raw[\"EXT1\"] = df_raw.EXT1.apply(lambda x: x.replace(\"\\\"\", \"\"))\n",
    "df_raw[\"long_appx_lots_of_err\"] = df_raw[\"long_appx_lots_of_err\"].apply(lambda x: x.replace(\"\\\"\", \"\"))\n",
    "df_raw[\"EXT1\"] = df_raw.EXT1.astype(\"int64\")"
   ]
  },
  {
   "cell_type": "code",
   "execution_count": 12,
   "metadata": {},
   "outputs": [
    {
     "name": "stdout",
     "output_type": "stream",
     "text": [
      "   EXT1  EXT2  EXT3  EXT4  EXT5  EXT6  EXT7  EXT8  EXT9  EXT10  ...  OPN1  \\\n",
      "0     4     1     5     2     5     1     5     2     4      1  ...     5   \n",
      "1     3     5     3     4     3     3     2     5     1      5  ...     1   \n",
      "2     2     3     4     4     3     2     1     3     2      5  ...     5   \n",
      "\n",
      "   OPN2  OPN3  OPN4  OPN5  OPN6  OPN7  OPN8  OPN9  OPN10  \n",
      "0     1     4     1     4     1     5     3     4      5  \n",
      "1     2     4     2     3     1     4     2     5      3  \n",
      "2     1     2     1     4     2     5     3     4      4  \n",
      "\n",
      "[3 rows x 50 columns]\n",
      "Sample size : 10432\n"
     ]
    }
   ],
   "source": [
    "df = df_raw[df_raw.columns[:50]].copy()\n",
    "\n",
    "print(df.head(3))\n",
    "print(\"Sample size : {}\".format(len(df)))"
   ]
  },
  {
   "cell_type": "code",
   "execution_count": 13,
   "metadata": {},
   "outputs": [
    {
     "name": "stdout",
     "output_type": "stream",
     "text": [
      "   EXT1  EXT2  EXT3  EXT4  EXT5  EXT6  EXT7  EXT8  EXT9  EXT10  ...  OPN6  \\\n",
      "0     4     1     5     2     5     1     5     2     4      1  ...     1   \n",
      "1     3     5     3     4     3     3     2     5     1      5  ...     1   \n",
      "2     2     3     4     4     3     2     1     3     2      5  ...     2   \n",
      "\n",
      "   OPN7  OPN8  OPN9  OPN10  score_E  score_A  score_C  score_N  score_O  \n",
      "0     5     3     4      5       36       29       22       26       35  \n",
      "1     4     2     5      3       10       34       27       25       25  \n",
      "2     5     3     4      4       15       32       24       24       31  \n",
      "\n",
      "[3 rows x 55 columns]\n"
     ]
    }
   ],
   "source": [
    "#deriving labels\n",
    "\n",
    "score_E = lambda row: 20 + \\\n",
    "                row[\"EXT1\"] - row[\"EXT2\"] + \\\n",
    "                row[\"EXT3\"] - row[\"EXT4\"] + \\\n",
    "                row[\"EXT5\"] - row[\"EXT6\"] + \\\n",
    "                row[\"EXT7\"] - row[\"EXT8\"] + \\\n",
    "                row[\"EXT9\"] - row[\"EXT10\"]\n",
    "df[\"score_E\"] = df.apply(score_E, axis=1)\n",
    "\n",
    "score_A = lambda row: 14 - \\\n",
    "                row[\"AGR1\"] + row[\"AGR2\"] - \\\n",
    "                row[\"AGR3\"] + row[\"AGR4\"] - \\\n",
    "                row[\"AGR5\"] + row[\"AGR6\"] - \\\n",
    "                row[\"AGR7\"] + row[\"AGR8\"] + \\\n",
    "                row[\"AGR9\"] + row[\"AGR10\"]\n",
    "df[\"score_A\"] = df.apply(score_A, axis=1)\n",
    "\n",
    "score_C = lambda row: 14 + \\\n",
    "                row[\"CSN1\"] - row[\"CSN2\"] + \\\n",
    "                row[\"CSN3\"] - row[\"CSN4\"] + \\\n",
    "                row[\"CSN5\"] - row[\"CSN6\"] + \\\n",
    "                row[\"CSN7\"] - row[\"CSN8\"] + \\\n",
    "                row[\"CSN9\"] + row[\"CSN10\"]\n",
    "df[\"score_C\"] = df.apply(score_C, axis=1)\n",
    "\n",
    "score_N = lambda row: 38 - \\\n",
    "                row[\"EST1\"] + row[\"EST2\"] - \\\n",
    "                row[\"EST3\"] + row[\"EST4\"] - \\\n",
    "                row[\"EST5\"] - row[\"EST6\"] - \\\n",
    "                row[\"EST7\"] - row[\"EST8\"] - \\\n",
    "                row[\"EST9\"] - row[\"EST10\"]\n",
    "df[\"score_N\"] = df.apply(score_N, axis=1)\n",
    "\n",
    "score_O = lambda row: 8 + \\\n",
    "                row[\"OPN1\"] - row[\"OPN2\"] + \\\n",
    "                row[\"OPN3\"] - row[\"OPN4\"] + \\\n",
    "                row[\"OPN5\"] - row[\"OPN6\"] + \\\n",
    "                row[\"OPN7\"] + row[\"OPN8\"] + \\\n",
    "                row[\"OPN9\"] + row[\"OPN10\"]\n",
    "df[\"score_O\"] = df.apply(score_O, axis=1)   \n",
    "\n",
    "print(df.head(3))"
   ]
  },
  {
   "cell_type": "code",
   "execution_count": 14,
   "metadata": {},
   "outputs": [
    {
     "name": "stdout",
     "output_type": "stream",
     "text": [
      "   EXT1  EXT2  EXT3  EXT4  EXT5  EXT6  EXT7  EXT8  EXT9  EXT10  ...  OPN7  \\\n",
      "0     4     1     5     2     5     1     5     2     4      1  ...     5   \n",
      "1     3     5     3     4     3     3     2     5     1      5  ...     4   \n",
      "2     2     3     4     4     3     2     1     3     2      5  ...     5   \n",
      "\n",
      "   OPN8  OPN9  OPN10  score_E  score_A  score_C  score_N  score_O  target  \n",
      "0     3     4      5       36       29       22       26       35       E  \n",
      "1     2     5      3       10       34       27       25       25       A  \n",
      "2     3     4      4       15       32       24       24       31       A  \n",
      "\n",
      "[3 rows x 56 columns]\n"
     ]
    }
   ],
   "source": [
    "def personality(row):\n",
    "    big_letter = \"\"\n",
    "    highest_score = 0\n",
    "    if row[\"score_E\"] > highest_score:\n",
    "        highest_score = row[\"score_E\"]\n",
    "        big_letter = \"E\"\n",
    "    if row[\"score_A\"] > highest_score:\n",
    "        highest_score = row[\"score_A\"]\n",
    "        big_letter = \"A\"\n",
    "    if row[\"score_C\"] > highest_score:\n",
    "        highest_score = row[\"score_C\"]\n",
    "        big_letter = \"C\"\n",
    "    if row[\"score_N\"] > highest_score:\n",
    "        highest_score = row[\"score_N\"]\n",
    "        big_letter = \"N\"\n",
    "    if row[\"score_O\"] > highest_score:\n",
    "        highest_score = row[\"score_O\"]\n",
    "        big_letter = \"O\"\n",
    "    return big_letter\n",
    "\n",
    "df[\"target\"] = df.apply(personality, axis=1)\n",
    "print(df.head(3))"
   ]
  },
  {
   "cell_type": "code",
   "execution_count": 15,
   "metadata": {},
   "outputs": [
    {
     "name": "stdout",
     "output_type": "stream",
     "text": [
      "[2 1 1 ... 4 4 4]\n"
     ]
    }
   ],
   "source": [
    "samples = df[df.columns[:50]].copy()\n",
    "\n",
    "model = KMeans(n_clusters = 5, random_state=6)\n",
    "model.fit(samples)\n",
    "\n",
    "labels = model.predict(samples)\n",
    "print(labels)"
   ]
  },
  {
   "cell_type": "code",
   "execution_count": 16,
   "metadata": {},
   "outputs": [
    {
     "name": "stdout",
     "output_type": "stream",
     "text": [
      "big_five_personality  b'Agreeableness'  b'Conscientiousness'  b'Extraversion'  \\\n",
      "labels                                                                          \n",
      "0                                  128                   323               80   \n",
      "1                                 1055                   526                0   \n",
      "2                                  737                   219              380   \n",
      "3                                  982                   200                7   \n",
      "4                                  996                    79              456   \n",
      "\n",
      "big_five_personality  b'Neuroticism'  b'Openness'  \n",
      "labels                                             \n",
      "0                                351          789  \n",
      "1                                104          491  \n",
      "2                                285          433  \n",
      "3                                  1          954  \n",
      "4                                  0          856  \n"
     ]
    }
   ],
   "source": [
    "target = df.target.values\n",
    "big_five_personality = np.chararray(target.shape, itemsize=10432)\n",
    "\n",
    "for i in range(len(samples)):\n",
    "    if target[i] == \"E\":\n",
    "        big_five_personality[i] = \"Extraversion\"\n",
    "    elif target[i] == \"N\":\n",
    "        big_five_personality[i] = \"Neuroticism\"\n",
    "    elif target[i] == \"A\":\n",
    "        big_five_personality[i] = \"Agreeableness\"\n",
    "    elif target[i] == \"C\":\n",
    "        big_five_personality[i] = \"Conscientiousness\"\n",
    "    elif target[i] == \"O\":\n",
    "        big_five_personality[i] = \"Openness\"\n",
    "\n",
    "new_df = pd.DataFrame({\"labels\": labels, \"big_five_personality\" : big_five_personality})\n",
    "table = pd.crosstab(new_df[\"labels\"], new_df[\"big_five_personality\"])\n",
    "print(table)"
   ]
  },
  {
   "cell_type": "code",
   "execution_count": 17,
   "metadata": {},
   "outputs": [
    {
     "data": {
      "image/png": "[encoded data removed]",
      "text/plain": [
       "<Figure size 432x288 with 1 Axes>"
      ]
     },
     "metadata": {
      "needs_background": "light"
     },
     "output_type": "display_data"
    }
   ],
   "source": [
    "num_clusters = list(range(1,9))\n",
    "inertias = []\n",
    "for k in num_clusters:\n",
    "    model_1 = KMeans(n_clusters=k, random_state=6)\n",
    "    model_1.fit(samples)\n",
    "    inertias.append(model_1.inertia_)\n",
    "plt.plot(num_clusters, inertias, \"-o\")\n",
    "plt.show()"
   ]
  },
  {
   "cell_type": "code",
   "execution_count": 18,
   "metadata": {},
   "outputs": [
    {
     "name": "stdout",
     "output_type": "stream",
     "text": [
      "[4 0 2 2]\n"
     ]
    }
   ],
   "source": [
    "# 4 fictitious characters \n",
    "\n",
    "Willy = np.array([5.0, 1.0, 5.0, 1.0, 5.0, 1.0, 5.0, 1.0, 5.0, 1.0, \\\n",
    "                  5.0, 1.0, 5.0, 1.0, 5.0, 5.0, 5.0, 5.0, 5.0, 5.0, \\\n",
    "                  5.0, 1.0, 5.0, 1.0, 5.0, 1.0, 1.0, 1.0, 1.0, 5.0, \\\n",
    "                  1.0, 5.0, 1.0, 5.0, 1.0, 1.0, 1.0, 1.0, 5.0, 1.0, \\\n",
    "                  1.0, 5.0, 1.0, 5.0, 1.0, 5.0, 1.0, 1.0, 1.0, 1.0])\n",
    "Xavier = np.array([1.0, 5.0, 3.0, 5.0, 1.0, 4.0, 1.0, 5.0, 1.0, 4.0, \\\n",
    "                   2.0, 3.0, 1.0, 1.0, 2.0, 1.0, 3.0, 1.0, 2.0, 1.0, \\\n",
    "                   4.0, 2.0, 3.0, 2.0, 4.0, 2.0, 4.0, 2.0, 1.0, 3.0, \\\n",
    "                   2.0, 2.0, 1.0, 4.0, 4.0, 1.0, 3.0, 4.0, 1.0, 1.0, \\\n",
    "                   1.0, 5.0, 2.0, 4.0, 2.0, 4.0, 2.0, 1.0, 4.0, 2.0])\n",
    "Yenny = np.array([5.0, 1.0, 5.0, 1.0, 5.0, 1.0, 5.0, 1.0, 5.0, 1.0, \\\n",
    "                  1.0, 2.0, 2.0, 4.0, 2.0, 3.0, 4.0, 2.0, 4.0, 1.0, \\\n",
    "                  1.0, 4.0, 2.0, 2.0, 4.0, 4.0, 4.0, 3.0, 2.0, 4.0, \\\n",
    "                  5.0, 1.0, 5.0, 1.0, 4.0, 4.0, 4.0, 1.0, 5.0, 5.0, \\\n",
    "                  5.0, 1.0, 5.0, 1.0, 5.0, 1.0, 5.0, 5.0, 5.0, 5.0])\n",
    "Zee = np.array([2.0, 1.0, 5.0, 4.0, 5.0, 1.0, 1.0, 2.0, 1.0, 3.0, \\\n",
    "                1.0, 5.0, 1.0, 1.0, 2.0, 1.0, 1.0, 1.0, 1.0, 2.0, \\\n",
    "                2.0, 4.0, 1.0, 5.0, 2.0, 5.0, 2.0, 5.0, 5.0, 5.0, \\\n",
    "                4.0, 2.0, 2.0, 1.0, 1.0, 4.0, 5.0, 4.0, 2.0, 1.0, \\\n",
    "                4.0, 5.0, 2.0, 5.0, 2.0, 4.0, 3.0, 3.0, 5.0, 1.0])\n",
    "\n",
    "fictitious_individuals = np.array([Willy, Xavier, Yenny, Zee])\n",
    "\n",
    "print(model.predict(fictitious_individuals))"
   ]
  }
 ],
 "metadata": {
  "kernelspec": {
   "display_name": "Python 3",
   "language": "python",
   "name": "python3"
  },
  "language_info": {
   "codemirror_mode": {
    "name": "ipython",
    "version": 3
   },
   "file_extension": ".py",
   "mimetype": "text/x-python",
   "name": "python",
   "nbconvert_exporter": "python",
   "pygments_lexer": "ipython3",
   "version": "3.7.6"
  }
 },
 "nbformat": 4,
 "nbformat_minor": 4
}
